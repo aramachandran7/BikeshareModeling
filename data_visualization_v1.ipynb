{
 "cells": [
  {
   "cell_type": "code",
   "execution_count": 1,
   "metadata": {
    "collapsed": false
   },
   "outputs": [
   ],
   "source": [
    "import pandas as pd\n",
    "import numpy as np\n",
    "import matplotlib.pyplot as plt\n",
    "import seaborn as sns"
   ]
  },
  {
   "cell_type": "code",
   "execution_count": 2,
   "metadata": {
    "collapsed": false
   },
   "outputs": [
    {
     "data": {
      "text/html": [
       "<div>\n",
       "<style scoped>\n",
       "    .dataframe tbody tr th:only-of-type {\n",
       "        vertical-align: middle;\n",
       "    }\n",
       "\n",
       "    .dataframe tbody tr th {\n",
       "        vertical-align: top;\n",
       "    }\n",
       "\n",
       "    .dataframe thead th {\n",
       "        text-align: right;\n",
       "    }\n",
       "</style>\n",
       "<table border=\"1\" class=\"dataframe\">\n",
       "  <thead>\n",
       "    <tr style=\"text-align: right;\">\n",
       "      <th></th>\n",
       "      <th>tripduration</th>\n",
       "      <th>starttime</th>\n",
       "      <th>stoptime</th>\n",
       "      <th>start station id</th>\n",
       "      <th>start station name</th>\n",
       "      <th>start station latitude</th>\n",
       "      <th>start station longitude</th>\n",
       "      <th>end station id</th>\n",
       "      <th>end station name</th>\n",
       "      <th>end station latitude</th>\n",
       "      <th>end station longitude</th>\n",
       "      <th>bikeid</th>\n",
       "      <th>usertype</th>\n",
       "      <th>birth year</th>\n",
       "      <th>gender</th>\n",
       "    </tr>\n",
       "  </thead>\n",
       "  <tbody>\n",
       "    <tr>\n",
       "      <td>0</td>\n",
       "      <td>970</td>\n",
       "      <td>2018-01-01 13:50:57.4340</td>\n",
       "      <td>2018-01-01 14:07:08.1860</td>\n",
       "      <td>72</td>\n",
       "      <td>W 52 St &amp; 11 Ave</td>\n",
       "      <td>40.767272</td>\n",
       "      <td>-73.993929</td>\n",
       "      <td>505</td>\n",
       "      <td>6 Ave &amp; W 33 St</td>\n",
       "      <td>40.749013</td>\n",
       "      <td>-73.988484</td>\n",
       "      <td>31956</td>\n",
       "      <td>Subscriber</td>\n",
       "      <td>1992</td>\n",
       "      <td>1</td>\n",
       "    </tr>\n",
       "    <tr>\n",
       "      <td>1</td>\n",
       "      <td>723</td>\n",
       "      <td>2018-01-01 15:33:30.1820</td>\n",
       "      <td>2018-01-01 15:45:33.3410</td>\n",
       "      <td>72</td>\n",
       "      <td>W 52 St &amp; 11 Ave</td>\n",
       "      <td>40.767272</td>\n",
       "      <td>-73.993929</td>\n",
       "      <td>3255</td>\n",
       "      <td>8 Ave &amp; W 31 St</td>\n",
       "      <td>40.750585</td>\n",
       "      <td>-73.994685</td>\n",
       "      <td>32536</td>\n",
       "      <td>Subscriber</td>\n",
       "      <td>1969</td>\n",
       "      <td>1</td>\n",
       "    </tr>\n",
       "    <tr>\n",
       "      <td>2</td>\n",
       "      <td>496</td>\n",
       "      <td>2018-01-01 15:39:18.3370</td>\n",
       "      <td>2018-01-01 15:47:35.1720</td>\n",
       "      <td>72</td>\n",
       "      <td>W 52 St &amp; 11 Ave</td>\n",
       "      <td>40.767272</td>\n",
       "      <td>-73.993929</td>\n",
       "      <td>525</td>\n",
       "      <td>W 34 St &amp; 11 Ave</td>\n",
       "      <td>40.755942</td>\n",
       "      <td>-74.002116</td>\n",
       "      <td>16069</td>\n",
       "      <td>Subscriber</td>\n",
       "      <td>1956</td>\n",
       "      <td>1</td>\n",
       "    </tr>\n",
       "    <tr>\n",
       "      <td>3</td>\n",
       "      <td>306</td>\n",
       "      <td>2018-01-01 15:40:13.3720</td>\n",
       "      <td>2018-01-01 15:45:20.1910</td>\n",
       "      <td>72</td>\n",
       "      <td>W 52 St &amp; 11 Ave</td>\n",
       "      <td>40.767272</td>\n",
       "      <td>-73.993929</td>\n",
       "      <td>447</td>\n",
       "      <td>8 Ave &amp; W 52 St</td>\n",
       "      <td>40.763707</td>\n",
       "      <td>-73.985162</td>\n",
       "      <td>31781</td>\n",
       "      <td>Subscriber</td>\n",
       "      <td>1974</td>\n",
       "      <td>1</td>\n",
       "    </tr>\n",
       "    <tr>\n",
       "      <td>4</td>\n",
       "      <td>306</td>\n",
       "      <td>2018-01-01 18:14:51.5680</td>\n",
       "      <td>2018-01-01 18:19:57.6420</td>\n",
       "      <td>72</td>\n",
       "      <td>W 52 St &amp; 11 Ave</td>\n",
       "      <td>40.767272</td>\n",
       "      <td>-73.993929</td>\n",
       "      <td>3356</td>\n",
       "      <td>Amsterdam Ave &amp; W 66 St</td>\n",
       "      <td>40.774667</td>\n",
       "      <td>-73.984706</td>\n",
       "      <td>30319</td>\n",
       "      <td>Subscriber</td>\n",
       "      <td>1992</td>\n",
       "      <td>1</td>\n",
       "    </tr>\n",
       "  </tbody>\n",
       "</table>\n",
       "</div>"
      ],
      "text/plain": [
       "   tripduration                 starttime                  stoptime  \\\n",
       "0           970  2018-01-01 13:50:57.4340  2018-01-01 14:07:08.1860   \n",
       "1           723  2018-01-01 15:33:30.1820  2018-01-01 15:45:33.3410   \n",
       "2           496  2018-01-01 15:39:18.3370  2018-01-01 15:47:35.1720   \n",
       "3           306  2018-01-01 15:40:13.3720  2018-01-01 15:45:20.1910   \n",
       "4           306  2018-01-01 18:14:51.5680  2018-01-01 18:19:57.6420   \n",
       "\n",
       "   start station id start station name  start station latitude  \\\n",
       "0                72   W 52 St & 11 Ave               40.767272   \n",
       "1                72   W 52 St & 11 Ave               40.767272   \n",
       "2                72   W 52 St & 11 Ave               40.767272   \n",
       "3                72   W 52 St & 11 Ave               40.767272   \n",
       "4                72   W 52 St & 11 Ave               40.767272   \n",
       "\n",
       "   start station longitude  end station id         end station name  \\\n",
       "0               -73.993929             505          6 Ave & W 33 St   \n",
       "1               -73.993929            3255          8 Ave & W 31 St   \n",
       "2               -73.993929             525         W 34 St & 11 Ave   \n",
       "3               -73.993929             447          8 Ave & W 52 St   \n",
       "4               -73.993929            3356  Amsterdam Ave & W 66 St   \n",
       "\n",
       "   end station latitude  end station longitude  bikeid    usertype  \\\n",
       "0             40.749013             -73.988484   31956  Subscriber   \n",
       "1             40.750585             -73.994685   32536  Subscriber   \n",
       "2             40.755942             -74.002116   16069  Subscriber   \n",
       "3             40.763707             -73.985162   31781  Subscriber   \n",
       "4             40.774667             -73.984706   30319  Subscriber   \n",
       "\n",
       "   birth year  gender  \n",
       "0        1992       1  \n",
       "1        1969       1  \n",
       "2        1956       1  \n",
       "3        1974       1  \n",
       "4        1992       1  "
      ]
     },
     "execution_count": 2,
     "metadata": {
     },
     "output_type": "execute_result"
    }
   ],
   "source": [
    "df_1 = pd.read_csv(r'201801-citibike-tripdata.csv')\n",
    "df_1.head()"
   ]
  },
  {
   "cell_type": "code",
   "execution_count": 3,
   "metadata": {
    "collapsed": false
   },
   "outputs": [
    {
     "name": "stdout",
     "output_type": "stream",
     "text": [
      "<class 'pandas.core.frame.DataFrame'>\n",
      "RangeIndex: 718994 entries, 0 to 718993\n",
      "Data columns (total 15 columns):\n",
      "tripduration               718994 non-null int64\n",
      "starttime                  718994 non-null object\n",
      "stoptime                   718994 non-null object\n",
      "start station id           718994 non-null int64\n",
      "start station name         718994 non-null object\n",
      "start station latitude     718994 non-null float64\n",
      "start station longitude    718994 non-null float64\n",
      "end station id             718994 non-null int64\n",
      "end station name           718994 non-null object\n",
      "end station latitude       718994 non-null float64\n",
      "end station longitude      718994 non-null float64\n",
      "bikeid                     718994 non-null int64\n",
      "usertype                   718994 non-null object\n",
      "birth year                 718994 non-null int64\n",
      "gender                     718994 non-null int64\n",
      "dtypes: float64(4), int64(6), object(5)\n",
      "memory usage: 82.3+ MB\n"
     ]
    }
   ],
   "source": [
    "df_1.info()"
   ]
  },
  {
   "cell_type": "code",
   "execution_count": 4,
   "metadata": {
    "collapsed": false
   },
   "outputs": [
    {
     "data": {
      "text/html": [
       "<div>\n",
       "<style scoped>\n",
       "    .dataframe tbody tr th:only-of-type {\n",
       "        vertical-align: middle;\n",
       "    }\n",
       "\n",
       "    .dataframe tbody tr th {\n",
       "        vertical-align: top;\n",
       "    }\n",
       "\n",
       "    .dataframe thead th {\n",
       "        text-align: right;\n",
       "    }\n",
       "</style>\n",
       "<table border=\"1\" class=\"dataframe\">\n",
       "  <thead>\n",
       "    <tr style=\"text-align: right;\">\n",
       "      <th></th>\n",
       "      <th>tripduration</th>\n",
       "      <th>start station id</th>\n",
       "      <th>start station latitude</th>\n",
       "      <th>start station longitude</th>\n",
       "      <th>end station id</th>\n",
       "      <th>end station latitude</th>\n",
       "      <th>end station longitude</th>\n",
       "      <th>bikeid</th>\n",
       "      <th>birth year</th>\n",
       "      <th>gender</th>\n",
       "    </tr>\n",
       "  </thead>\n",
       "  <tbody>\n",
       "    <tr>\n",
       "      <td>count</td>\n",
       "      <td>7.189940e+05</td>\n",
       "      <td>718994.000000</td>\n",
       "      <td>718994.000000</td>\n",
       "      <td>718994.000000</td>\n",
       "      <td>718994.000000</td>\n",
       "      <td>718994.000000</td>\n",
       "      <td>718994.000000</td>\n",
       "      <td>718994.000000</td>\n",
       "      <td>718994.000000</td>\n",
       "      <td>718994.000000</td>\n",
       "    </tr>\n",
       "    <tr>\n",
       "      <td>mean</td>\n",
       "      <td>8.268107e+02</td>\n",
       "      <td>1469.519095</td>\n",
       "      <td>40.737894</td>\n",
       "      <td>-73.982934</td>\n",
       "      <td>1460.948474</td>\n",
       "      <td>40.737620</td>\n",
       "      <td>-73.983203</td>\n",
       "      <td>26078.046315</td>\n",
       "      <td>1977.765945</td>\n",
       "      <td>1.169969</td>\n",
       "    </tr>\n",
       "    <tr>\n",
       "      <td>std</td>\n",
       "      <td>3.279694e+04</td>\n",
       "      <td>1398.626487</td>\n",
       "      <td>0.044702</td>\n",
       "      <td>0.018219</td>\n",
       "      <td>1396.759046</td>\n",
       "      <td>0.044525</td>\n",
       "      <td>0.018273</td>\n",
       "      <td>6311.931441</td>\n",
       "      <td>12.016931</td>\n",
       "      <td>0.472668</td>\n",
       "    </tr>\n",
       "    <tr>\n",
       "      <td>min</td>\n",
       "      <td>6.100000e+01</td>\n",
       "      <td>72.000000</td>\n",
       "      <td>40.646538</td>\n",
       "      <td>-74.017134</td>\n",
       "      <td>72.000000</td>\n",
       "      <td>40.646538</td>\n",
       "      <td>-74.033552</td>\n",
       "      <td>14529.000000</td>\n",
       "      <td>1885.000000</td>\n",
       "      <td>0.000000</td>\n",
       "    </tr>\n",
       "    <tr>\n",
       "      <td>25%</td>\n",
       "      <td>3.190000e+02</td>\n",
       "      <td>377.000000</td>\n",
       "      <td>40.719079</td>\n",
       "      <td>-73.994685</td>\n",
       "      <td>376.000000</td>\n",
       "      <td>40.719105</td>\n",
       "      <td>-73.994758</td>\n",
       "      <td>19558.000000</td>\n",
       "      <td>1969.000000</td>\n",
       "      <td>1.000000</td>\n",
       "    </tr>\n",
       "    <tr>\n",
       "      <td>50%</td>\n",
       "      <td>5.100000e+02</td>\n",
       "      <td>497.000000</td>\n",
       "      <td>40.739355</td>\n",
       "      <td>-73.985649</td>\n",
       "      <td>497.000000</td>\n",
       "      <td>40.739323</td>\n",
       "      <td>-73.986580</td>\n",
       "      <td>28538.000000</td>\n",
       "      <td>1980.000000</td>\n",
       "      <td>1.000000</td>\n",
       "    </tr>\n",
       "    <tr>\n",
       "      <td>75%</td>\n",
       "      <td>8.420000e+02</td>\n",
       "      <td>3170.000000</td>\n",
       "      <td>40.756687</td>\n",
       "      <td>-73.974987</td>\n",
       "      <td>3169.000000</td>\n",
       "      <td>40.756405</td>\n",
       "      <td>-73.975232</td>\n",
       "      <td>31571.000000</td>\n",
       "      <td>1988.000000</td>\n",
       "      <td>1.000000</td>\n",
       "    </tr>\n",
       "    <tr>\n",
       "      <td>max</td>\n",
       "      <td>1.951005e+07</td>\n",
       "      <td>3664.000000</td>\n",
       "      <td>45.506364</td>\n",
       "      <td>-73.568906</td>\n",
       "      <td>3664.000000</td>\n",
       "      <td>45.506364</td>\n",
       "      <td>-73.568906</td>\n",
       "      <td>33522.000000</td>\n",
       "      <td>2002.000000</td>\n",
       "      <td>2.000000</td>\n",
       "    </tr>\n",
       "  </tbody>\n",
       "</table>\n",
       "</div>"
      ],
      "text/plain": [
       "       tripduration  start station id  start station latitude  \\\n",
       "count  7.189940e+05     718994.000000           718994.000000   \n",
       "mean   8.268107e+02       1469.519095               40.737894   \n",
       "std    3.279694e+04       1398.626487                0.044702   \n",
       "min    6.100000e+01         72.000000               40.646538   \n",
       "25%    3.190000e+02        377.000000               40.719079   \n",
       "50%    5.100000e+02        497.000000               40.739355   \n",
       "75%    8.420000e+02       3170.000000               40.756687   \n",
       "max    1.951005e+07       3664.000000               45.506364   \n",
       "\n",
       "       start station longitude  end station id  end station latitude  \\\n",
       "count            718994.000000   718994.000000         718994.000000   \n",
       "mean                -73.982934     1460.948474             40.737620   \n",
       "std                   0.018219     1396.759046              0.044525   \n",
       "min                 -74.017134       72.000000             40.646538   \n",
       "25%                 -73.994685      376.000000             40.719105   \n",
       "50%                 -73.985649      497.000000             40.739323   \n",
       "75%                 -73.974987     3169.000000             40.756405   \n",
       "max                 -73.568906     3664.000000             45.506364   \n",
       "\n",
       "       end station longitude         bikeid     birth year         gender  \n",
       "count          718994.000000  718994.000000  718994.000000  718994.000000  \n",
       "mean              -73.983203   26078.046315    1977.765945       1.169969  \n",
       "std                 0.018273    6311.931441      12.016931       0.472668  \n",
       "min               -74.033552   14529.000000    1885.000000       0.000000  \n",
       "25%               -73.994758   19558.000000    1969.000000       1.000000  \n",
       "50%               -73.986580   28538.000000    1980.000000       1.000000  \n",
       "75%               -73.975232   31571.000000    1988.000000       1.000000  \n",
       "max               -73.568906   33522.000000    2002.000000       2.000000  "
      ]
     },
     "execution_count": 4,
     "metadata": {
     },
     "output_type": "execute_result"
    }
   ],
   "source": [
    "df_1.describe()"
   ]
  },
  {
   "cell_type": "code",
   "execution_count": 6,
   "metadata": {
    "collapsed": false
   },
   "outputs": [
    {
     "data": {
      "image/png": "[encoded data removed]",
      "text/plain": [
       "<Figure size 1152x432 with 12 Axes>"
      ]
     },
     "execution_count": 6,
     "metadata": {
      "needs_background": "light"
     },
     "output_type": "execute_result"
    }
   ],
   "source": [
    "# Achieving a visual understanding of the data: histograms for everything\n",
    "features_list = df_1.columns\n",
    "df_1[features_list].hist(bins=40, edgecolor='b', linewidth=1.0, xlabelsize=8, \n",
    "                         ylabelsize=8, grid=False, figsize = (16,6), \n",
    "                         color = 'red')\n",
    "\n",
    "plt.tight_layout(rect=(0,0,1.2, 1.2))\n",
    "plt.suptitle('univariet histogram distribution plots', x=.65, y=1.25, fontsize=14)\n",
    "plt.show()\n"
   ]
  },
  {
   "cell_type": "code",
   "execution_count": 8,
   "metadata": {
    "collapsed": false
   },
   "outputs": [
    {
     "name": "stdout",
     "output_type": "stream",
     "text": [
      "718000\n"
     ]
    },
    {
     "data": {
      "text/plain": [
       "<matplotlib.axes._subplots.AxesSubplot at 0x7faf50612f28>"
      ]
     },
     "execution_count": 8,
     "metadata": {
     },
     "output_type": "execute_result"
    },
    {
     "data": {
      "image/png": "[encoded data removed]",
      "text/plain": [
       "<Figure size 432x288 with 1 Axes>"
      ]
     },
     "execution_count": 8,
     "metadata": {
      "needs_background": "light"
     },
     "output_type": "execute_result"
    }
   ],
   "source": [
    "# revealing a better histogram for trip durations - crudely excluding the top 1000 instances\n",
    "trip_durations = df_1['tripduration']\n",
    "trip_durations = trip_durations.sort_values()\n",
    "trip_durations = trip_durations[0:718000]\n",
    "print(len(trip_durations))\n",
    "sns.distplot(trip_durations)"
   ]
  },
  {
   "cell_type": "code",
   "execution_count": 9,
   "metadata": {
    "collapsed": false
   },
   "outputs": [
    {
     "name": "stdout",
     "output_type": "stream",
     "text": [
      "39\n"
     ]
    },
    {
     "name": "stdout",
     "output_type": "stream",
     "text": [
      "0     830\n",
      "1     933\n",
      "2     939\n",
      "3     940\n",
      "4    1094\n",
      "dtype: int64\n"
     ]
    },
    {
     "data": {
      "text/plain": [
       "Text(0.5, 0.98, 'time of departure histogram')"
      ]
     },
     "execution_count": 9,
     "metadata": {
     },
     "output_type": "execute_result"
    },
    {
     "data": {
      "image/png": "[encoded data removed]",
      "text/plain": [
       "<Figure size 432x288 with 1 Axes>"
      ]
     },
     "execution_count": 9,
     "metadata": {
      "needs_background": "light"
     },
     "output_type": "execute_result"
    }
   ],
   "source": [
    "# Understanding bikeshare usage throughout the day (in minutes)\n",
    "# plotting departure times and their frequency over the course of a month with a histogram\n",
    "Day_times = []\n",
    "print(int(str(df_1['starttime'][32])[14:16]))\n",
    "for i in df_1['starttime'] :\n",
    "    \n",
    "    mins = 60*int(str(i)[11:13]) + int(str(i)[14:16])\n",
    "    Day_times.append(mins)\n",
    "    \n",
    "Day_times = pd.Series(data=Day_times)\n",
    "print(Day_times.head())\n",
    "    \n",
    "df_1['day_times'] = Day_times\n",
    "sns.distplot(Day_times, kde=False);\n",
    "plt.suptitle('time of departure histogram', fontsize=14)"
   ]
  },
  {
   "cell_type": "code",
   "execution_count": 17,
   "metadata": {
    "collapsed": false
   },
   "outputs": [
    {
     "name": "stdout",
     "output_type": "stream",
     "text": [
      "Unique stations in df_1: 763\n"
     ]
    },
    {
     "data": {
      "text/plain": [
       "Text(0.5, 0.98, 'Station Arrival Rate against Time of Day')"
      ]
     },
     "execution_count": 17,
     "metadata": {
     },
     "output_type": "execute_result"
    },
    {
     "data": {
      "image/png": "[encoded data removed]",
      "text/plain": [
       "<Figure size 432x288 with 1 Axes>"
      ]
     },
     "execution_count": 17,
     "metadata": {
      "needs_background": "light"
     },
     "output_type": "execute_result"
    }
   ],
   "source": [
    "# better understanding the data that makes the above trend\n",
    "arr_rate = np.array([0 for i in range(1440)], dtype=np.float)\n",
    "for t in Day_times:\n",
    "    arr_rate[t] += 1\n",
    "arr_rate /= 31.0 # 31 days in January - gives average count per minute in one day\n",
    "station_count = df_1['start station id'].nunique()\n",
    "print(\"Unique stations in df_1:\", station_count)\n",
    "arr_rate /= station_count # Arrival rate per station on average\n",
    "plt.plot(arr_rate)\n",
    "plt.suptitle('Station Arrival Rate against Time of Day', fontsize=14)"
   ]
  },
  {
   "cell_type": "code",
   "execution_count": 18,
   "metadata": {
    "collapsed": false,
    "scrolled": true
   },
   "outputs": [
    {
     "data": {
      "text/plain": [
       "Text(0.5, 1.0, 'Measured and Modeled Bike Arrivals')"
      ]
     },
     "execution_count": 18,
     "metadata": {
     },
     "output_type": "execute_result"
    },
    {
     "data": {
      "image/png": "[encoded data removed]",
      "text/plain": [
       "<Figure size 432x288 with 1 Axes>"
      ]
     },
     "execution_count": 18,
     "metadata": {
      "needs_background": "light"
     },
     "output_type": "execute_result"
    }
   ],
   "source": [
    "# building a function to model the above trend, and plotting that model against the actual data\n",
    "import scipy.stats as stats\n",
    "minutes = np.array(range(1440))\n",
    "mu1 = 520\n",
    "sigma1 = 50\n",
    "factor1 = 5\n",
    "dist1 = lambda x: factor1 * stats.norm.pdf(x, mu1, sigma1)\n",
    "mu2 = 1075\n",
    "sigma2 = 70\n",
    "factor2 = 5\n",
    "dist2 = lambda x: factor2 * stats.norm.pdf(x, mu2, sigma2)\n",
    "mu3 = 900\n",
    "sigma3 = 300\n",
    "factor3 = 22\n",
    "dist3 = lambda x: factor3 * stats.norm.pdf(x, mu3, sigma3)\n",
    "dist_final = lambda x: dist1(x) + dist2(x) + dist3(x)\n",
    "plt.plot(minutes, dist_final(minutes), minutes, arr_rate)\n",
    "plt.xlabel(\"Minute of the Day\")\n",
    "plt.ylabel(\"Arrival Rate\")\n",
    "plt.title(\"Measured and Modeled Bike Arrivals\")"
   ]
  },
  {
   "cell_type": "code",
   "execution_count": 10,
   "metadata": {
    "collapsed": false
   },
   "outputs": [
    {
     "data": {
      "text/html": [
       "<div>\n",
       "<style scoped>\n",
       "    .dataframe tbody tr th:only-of-type {\n",
       "        vertical-align: middle;\n",
       "    }\n",
       "\n",
       "    .dataframe tbody tr th {\n",
       "        vertical-align: top;\n",
       "    }\n",
       "\n",
       "    .dataframe thead th {\n",
       "        text-align: right;\n",
       "    }\n",
       "</style>\n",
       "<table border=\"1\" class=\"dataframe\">\n",
       "  <thead>\n",
       "    <tr style=\"text-align: right;\">\n",
       "      <th></th>\n",
       "      <th>id</th>\n",
       "    </tr>\n",
       "  </thead>\n",
       "  <tbody>\n",
       "    <tr>\n",
       "      <td>519</td>\n",
       "      <td>16106</td>\n",
       "    </tr>\n",
       "    <tr>\n",
       "      <td>435</td>\n",
       "      <td>10225</td>\n",
       "    </tr>\n",
       "    <tr>\n",
       "      <td>3255</td>\n",
       "      <td>9808</td>\n",
       "    </tr>\n",
       "    <tr>\n",
       "      <td>497</td>\n",
       "      <td>9427</td>\n",
       "    </tr>\n",
       "    <tr>\n",
       "      <td>402</td>\n",
       "      <td>9310</td>\n",
       "    </tr>\n",
       "  </tbody>\n",
       "</table>\n",
       "</div>"
      ],
      "text/plain": [
       "         id\n",
       "519   16106\n",
       "435   10225\n",
       "3255   9808\n",
       "497    9427\n",
       "402    9310"
      ]
     },
     "execution_count": 10,
     "metadata": {
     },
     "output_type": "execute_result"
    }
   ],
   "source": [
    "# picking out top stations and their appearance frequency in both start & end station ID\n",
    "ssid = df_1['start station id']\n",
    "esid = df_1['end station id']\n",
    "concated = pd.concat([ssid, esid], ignore_index=True)\n",
    "# print('id \\t counts')\n",
    "# top_vals = list(concated.value_counts())\n",
    "top_vals = pd.DataFrame(data=concated.value_counts()[:10], columns=['id'])\n",
    "top_vals.head()"
   ]
  },
  {
   "cell_type": "code",
   "execution_count": 16,
   "metadata": {
    "collapsed": false
   },
   "outputs": [
    {
     "name": "stdout",
     "output_type": "stream",
     "text": [
      "(920, 16)\n"
     ]
    }
   ],
   "source": [
    "# writing a station trimming function that keeps only instances of data where our preferred stations are kept.\n",
    "def station_df_trimmer(df_og, list_of_stations ):\n",
    "    df_copied = df_og.copy()\n",
    "    df_copied = df_copied[df_copied['end station id'].isin(list_stations)]\n",
    "    return df_copied[df_copied['start station id'].isin(list_stations)]\n",
    "\n",
    "# hard code\n",
    "# df_copy = df_1.copy()\n",
    "list_stations = [519, 435, 3255, 497]\n",
    "# df_copy = df_copy[df_copy['end station id'].isin(list_stations)]\n",
    "# df_copy = df_copy[df_copy['start station id'].isin(list_stations)]\n",
    "\n",
    "df_cut = station_df_trimmer(df_1,list_stations)\n",
    "\n",
    "print(df_cut.shape)"
   ]
  },
  {
   "cell_type": "code",
   "execution_count": 17,
   "metadata": {
    "collapsed": false
   },
   "outputs": [
   ],
   "source": [
    "def prob_finder(df, list_stations):\n",
    "    prob_df = pd.DataFrame(index=list_stations, columns=list_stations)\n",
    "    for i in list_stations:\n",
    "        for z in list_stations:\n",
    "            # finds the instances starting with i, with the 'probabilities' going to z. \n",
    "            temp_only_i = df[df['start station id']==i]\n",
    "            prob_df.loc[i][z] = (temp_only_i['end station id']==z).mean() # what we just set is the probability that the bike does go to z. \n",
    "    print('starting station represented by rows, probabilities of end stations in columns')\n",
    "    #\n",
    "    with pd.option_context('display.max_rows', None, 'display.max_columns', None):  # more options can be specified also\n",
    "        display(prob_df)\n",
    "    print(repr(prob_df.to_dict(orient='index')))\n",
    "    return prob_df"
   ]
  },
  {
   "cell_type": "code",
   "execution_count": 18,
   "metadata": {
    "collapsed": false
   },
   "outputs": [
    {
     "data": {
      "text/plain": [
       "count    920.000000\n",
       "mean       0.115247\n",
       "std        0.051805\n",
       "min        0.000000\n",
       "25%        0.091267\n",
       "50%        0.115944\n",
       "75%        0.150823\n",
       "max        0.234868\n",
       "dtype: float64"
      ]
     },
     "execution_count": 18,
     "metadata": {
     },
     "output_type": "execute_result"
    },
    {
     "data": {
      "image/png": "[encoded data removed]",
      "text/plain": [
       "<Figure size 432x288 with 1 Axes>"
      ]
     },
     "execution_count": 18,
     "metadata": {
      "needs_background": "light"
     },
     "output_type": "execute_result"
    }
   ],
   "source": [
    "# plotting speed distribution, based on station latitudes, longitudes, and tripdurations. \n",
    "distances = []\n",
    "speeds = []\n",
    "for i in range(df_cut.shape[0]):\n",
    "    startlat = df_cut['start station latitude'].iloc[i]\n",
    "    startlong = df_cut['start station longitude'].iloc[i]\n",
    "    endlat = df_cut['end station latitude'].iloc[i]\n",
    "    endlong = df_cut['end station longitude'].iloc[i]\n",
    "    #\n",
    "    lat_conv = 69 # Approximate number of miles to a degree of latitude\n",
    "    long_conv = 53 # Approximate number of miles to a degree of longitude at NYC's latitude\n",
    "    #\n",
    "    ns_dist = lat_conv * abs(startlat - endlat)\n",
    "    ew_dist = long_conv * abs(startlong - endlong)\n",
    "    #\n",
    "    distances.append(ns_dist + ew_dist)\n",
    "    #\n",
    "    time_minutes = df_cut['tripduration'].iloc[i] / 60.0\n",
    "    speed = (ns_dist + ew_dist) / time_minutes\n",
    "    speeds.append(speed)\n",
    "distances = pd.Series(data=distances)\n",
    "speeds = pd.Series(data=speeds)\n",
    "sns.distplot(speeds, kde=False);\n",
    "speeds.describe()"
   ]
  },
  {
   "cell_type": "code",
   "execution_count": 38,
   "metadata": {
    "collapsed": false,
    "scrolled": true
   },
   "outputs": [
    {
     "name": "stdout",
     "output_type": "stream",
     "text": [
      "starting station represented by rows, probabilities of end stations in columns\n"
     ]
    },
    {
     "data": {
      "text/html": [
       "<div>\n",
       "<style scoped>\n",
       "    .dataframe tbody tr th:only-of-type {\n",
       "        vertical-align: middle;\n",
       "    }\n",
       "\n",
       "    .dataframe tbody tr th {\n",
       "        vertical-align: top;\n",
       "    }\n",
       "\n",
       "    .dataframe thead th {\n",
       "        text-align: right;\n",
       "    }\n",
       "</style>\n",
       "<table border=\"1\" class=\"dataframe\">\n",
       "  <thead>\n",
       "    <tr style=\"text-align: right;\">\n",
       "      <th></th>\n",
       "      <th>519</th>\n",
       "      <th>435</th>\n",
       "      <th>3255</th>\n",
       "      <th>497</th>\n",
       "    </tr>\n",
       "  </thead>\n",
       "  <tbody>\n",
       "    <tr>\n",
       "      <td>519</td>\n",
       "      <td>0.0571429</td>\n",
       "      <td>0.310714</td>\n",
       "      <td>0.239286</td>\n",
       "      <td>0.392857</td>\n",
       "    </tr>\n",
       "    <tr>\n",
       "      <td>435</td>\n",
       "      <td>0.398374</td>\n",
       "      <td>0.0813008</td>\n",
       "      <td>0.345528</td>\n",
       "      <td>0.174797</td>\n",
       "    </tr>\n",
       "    <tr>\n",
       "      <td>3255</td>\n",
       "      <td>0.34058</td>\n",
       "      <td>0.282609</td>\n",
       "      <td>0.173913</td>\n",
       "      <td>0.202899</td>\n",
       "    </tr>\n",
       "    <tr>\n",
       "      <td>497</td>\n",
       "      <td>0.378906</td>\n",
       "      <td>0.335938</td>\n",
       "      <td>0.191406</td>\n",
       "      <td>0.09375</td>\n",
       "    </tr>\n",
       "  </tbody>\n",
       "</table>\n",
       "</div>"
      ],
      "text/plain": [
       "           519        435       3255      497 \n",
       "519   0.0571429   0.310714  0.239286  0.392857\n",
       "435    0.398374  0.0813008  0.345528  0.174797\n",
       "3255    0.34058   0.282609  0.173913  0.202899\n",
       "497    0.378906   0.335938  0.191406   0.09375"
      ]
     },
     "execution_count": 38,
     "metadata": {
     },
     "output_type": "execute_result"
    },
    {
     "name": "stdout",
     "output_type": "stream",
     "text": [
      "{519: {519: 0.05714285714285714, 435: 0.3107142857142857, 3255: 0.2392857142857143, 497: 0.39285714285714285}, 435: {519: 0.3983739837398374, 435: 0.08130081300813008, 3255: 0.34552845528455284, 497: 0.17479674796747968}, 3255: {519: 0.34057971014492755, 435: 0.2826086956521739, 3255: 0.17391304347826086, 497: 0.2028985507246377}, 497: {519: 0.37890625, 435: 0.3359375, 3255: 0.19140625, 497: 0.09375}}\n"
     ]
    }
   ],
   "source": [
    "# running the probability matrix on the cut dataframe\n",
    "list_stations = [519, 435, 3255, 497]\n",
    "probabilities = prob_finder(df_cut, list_stations)"
   ]
  }
 ],
 "metadata": {
  "kernelspec": {
   "display_name": "Python 3",
   "language": "python",
   "name": "python3"
  },
  "language_info": {
   "codemirror_mode": {
    "name": "ipython",
    "version": 3
   },
   "file_extension": ".py",
   "mimetype": "text/x-python",
   "name": "python",
   "nbconvert_exporter": "python",
   "pygments_lexer": "ipython3",
   "version": "3.7.3"
  }
 },
 "nbformat": 4,
 "nbformat_minor": 0
}